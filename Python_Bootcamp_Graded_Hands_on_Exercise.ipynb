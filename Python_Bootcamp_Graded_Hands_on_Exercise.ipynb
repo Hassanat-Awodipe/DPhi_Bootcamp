{
  "nbformat": 4,
  "nbformat_minor": 0,
  "metadata": {
    "kernelspec": {
      "display_name": "Python 3",
      "language": "python",
      "name": "python3"
    },
    "language_info": {
      "codemirror_mode": {
        "name": "ipython",
        "version": 3
      },
      "file_extension": ".py",
      "mimetype": "text/x-python",
      "name": "python",
      "nbconvert_exporter": "python",
      "pygments_lexer": "ipython3",
      "version": "3.7.6"
    },
    "colab": {
      "name": "Python Bootcamp Graded Hands-on Exercise.ipynb",
      "provenance": [],
      "collapsed_sections": []
    }
  },
  "cells": [
    {
      "cell_type": "markdown",
      "metadata": {
        "id": "A8yCrhVHQ_lC"
      },
      "source": [
        "##Overview\n",
        "\n",
        "Dear Learner, \n",
        "\n",
        "Congratulations, you have studied Python all the way through the end of this bootcamp!!! This is the final graded hands-on exercise where you will be accomplishing the below mentioned task.\n",
        "\n",
        "Authors: Albana Celepija, Vinayak Deshpande"
      ]
    },
    {
      "cell_type": "markdown",
      "metadata": {
        "id": "y_B39vCQGRTH"
      },
      "source": [
        "###Task 1\n",
        "\n",
        "We have declared a tuple containing five same elements as following:\n",
        "T = (‘python’, ‘python’, ‘python’, ‘python’, ‘python’).\n",
        "Re-write the same code in an optimal/simple way that fetches the same result."
      ]
    },
    {
      "cell_type": "code",
      "source": [
        "print((\"'python' \") * 5)"
      ],
      "metadata": {
        "colab": {
          "base_uri": "https://localhost:8080/"
        },
        "id": "sgUOpZUVz6wa",
        "outputId": "54a06746-6dae-437a-d913-e99f57d48b15"
      },
      "execution_count": 19,
      "outputs": [
        {
          "output_type": "stream",
          "name": "stdout",
          "text": [
            "'python' 'python' 'python' 'python' 'python' \n"
          ]
        }
      ]
    },
    {
      "cell_type": "markdown",
      "metadata": {
        "id": "H_8tFcijGRTQ"
      },
      "source": [
        "###Task 2\n",
        "\n",
        "Write code to print characters from a string that are present at an even index number.\n",
        "For example, if your input string is \"python\", the output characters will be (p,t,o)."
      ]
    },
    {
      "cell_type": "code",
      "source": [
        "user_input = [input(\"enter a string to print characters that are present at an even index number: \")]\n",
        "for i in user_input:\n",
        "    print (i[0: :2])"
      ],
      "metadata": {
        "colab": {
          "base_uri": "https://localhost:8080/"
        },
        "id": "Us-rzwD8-R8Z",
        "outputId": "63edc7a3-d111-4628-cc28-00be3e95174e"
      },
      "execution_count": 20,
      "outputs": [
        {
          "output_type": "stream",
          "name": "stdout",
          "text": [
            "enter a string to print characters that are present at an even index number: python\n",
            "pto\n"
          ]
        }
      ]
    },
    {
      "cell_type": "markdown",
      "metadata": {
        "id": "FbLVbwcsGRTT"
      },
      "source": [
        "### Task 3\n",
        "\n",
        "Write a function that calculates the average of the elements of the list: \n",
        "\n",
        "elements = [5, 7, 4, 9, 2]\n"
      ]
    },
    {
      "cell_type": "code",
      "source": [
        "def average():\n",
        "    elements = [5, 7, 4, 9, 2]\n",
        "    print (sum(elements)/len(elements))\n",
        "average()"
      ],
      "metadata": {
        "colab": {
          "base_uri": "https://localhost:8080/"
        },
        "id": "HmHwRf9DUGax",
        "outputId": "59bb466a-f5d1-43df-c6fe-c057beb673ae"
      },
      "execution_count": 12,
      "outputs": [
        {
          "output_type": "stream",
          "name": "stdout",
          "text": [
            "5.4\n"
          ]
        }
      ]
    },
    {
      "cell_type": "markdown",
      "metadata": {
        "id": "2pzfM3wS4oqt"
      },
      "source": [
        "### Task 4\n",
        "Write code to find if the given year is a leap year or not."
      ]
    },
    {
      "cell_type": "code",
      "source": [
        "user_input = int(input(\"enter the year to determine if its a leap year or not: \"))\n",
        "if user_input % 4 == 0:\n",
        "    print(str(user_input) + \" is a leap year\")\n",
        "    \n",
        "else:\n",
        "    print(str(user_input) + \" is not a leap year\")"
      ],
      "metadata": {
        "id": "W0Xq4y_SVLsL"
      },
      "execution_count": null,
      "outputs": []
    },
    {
      "cell_type": "markdown",
      "metadata": {
        "id": "zsVw9yrD5drx"
      },
      "source": [
        "### Task 5\n",
        "Given a list of numbers (integers), find the sum of second maximum and second minimum in the following list.\n",
        "\n",
        "l = [21, 6, 12, 57, 35, 61]"
      ]
    },
    {
      "cell_type": "code",
      "source": [
        "L = [21, 6, 12, 57, 35, 61]\n",
        "sorted(L)[-2] + sorted(L)[1]"
      ],
      "metadata": {
        "colab": {
          "base_uri": "https://localhost:8080/"
        },
        "id": "y3G22eelZBrD",
        "outputId": "53c0004c-dd9b-4985-897c-442fa281a101"
      },
      "execution_count": 16,
      "outputs": [
        {
          "output_type": "execute_result",
          "data": {
            "text/plain": [
              "69"
            ]
          },
          "metadata": {},
          "execution_count": 16
        }
      ]
    },
    {
      "cell_type": "markdown",
      "metadata": {
        "id": "ftPUY0J_pfa-"
      },
      "source": [
        "##Scores\n",
        "\n",
        "Each of the tasks is of 2 mark each and the scores will be given accordingly after the notebook review."
      ]
    }
  ]
}