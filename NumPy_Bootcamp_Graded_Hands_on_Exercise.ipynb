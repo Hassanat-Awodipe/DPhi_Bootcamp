{
  "nbformat": 4,
  "nbformat_minor": 0,
  "metadata": {
    "colab": {
      "name": "NumPy Bootcamp Graded Hands-on Exercise.ipynb",
      "provenance": []
    },
    "kernelspec": {
      "name": "python3",
      "display_name": "Python 3"
    },
    "language_info": {
      "name": "python"
    }
  },
  "cells": [
    {
      "cell_type": "markdown",
      "metadata": {
        "id": "OZpduK2BJvzZ"
      },
      "source": [
        "### **Overview**\n",
        "\n",
        "Dear Learner, \n",
        "\n",
        "Congratulations, you have studied NumPy all the way through the end of this bootcamp!!! This is the final graded hands-on exercise where you will be accomplishing the below mentioned task.\n",
        "\n",
        "**Author:** Avantika Podar"
      ]
    },
    {
      "cell_type": "markdown",
      "metadata": {
        "id": "UC6lZAsJLiFg"
      },
      "source": [
        "###Task 1:   \n",
        "\n",
        "Construct a random 3x28x28 NumPy array called *original* to represent an image and then convert this into into a 1x(3x28x28) array called *flat*. This converts it into a single row of pixels. Next, convert this to a 1D array (flatten the array using flat.flatten()). Print shape of all arrays. You may use the random function to generate the array.\n",
        "\n"
      ]
    },
    {
      "cell_type": "code",
      "metadata": {
        "id": "Qno3FG8M9RXZ",
        "colab": {
          "base_uri": "https://localhost:8080/"
        },
        "outputId": "7eb7f3a2-c50d-450a-9988-1b34d06a3219"
      },
      "source": [
        "import numpy as np\n",
        "original = np.random.rand(3,28,28); original"
      ],
      "execution_count": 2,
      "outputs": [
        {
          "output_type": "execute_result",
          "data": {
            "text/plain": [
              "array([[[0.38690816, 0.52102601, 0.75270609, ..., 0.32832636,\n",
              "         0.99816758, 0.88134795],\n",
              "        [0.52343694, 0.91384093, 0.63927776, ..., 0.62058792,\n",
              "         0.7755078 , 0.82403864],\n",
              "        [0.07447864, 0.9775395 , 0.46021467, ..., 0.00953656,\n",
              "         0.26401203, 0.63275502],\n",
              "        ...,\n",
              "        [0.42424558, 0.9024205 , 0.21242824, ..., 0.18745464,\n",
              "         0.18324604, 0.75049022],\n",
              "        [0.86952359, 0.93155959, 0.52922351, ..., 0.47640473,\n",
              "         0.01413956, 0.24458737],\n",
              "        [0.62194729, 0.13898941, 0.809992  , ..., 0.86780583,\n",
              "         0.80530226, 0.49657228]],\n",
              "\n",
              "       [[0.68577223, 0.64661121, 0.37199115, ..., 0.26720807,\n",
              "         0.58874953, 0.65628952],\n",
              "        [0.6082064 , 0.64492641, 0.77063602, ..., 0.41648131,\n",
              "         0.54694663, 0.86162723],\n",
              "        [0.96538572, 0.45081472, 0.83969725, ..., 0.67502028,\n",
              "         0.79170724, 0.04690211],\n",
              "        ...,\n",
              "        [0.17941315, 0.65731578, 0.08861302, ..., 0.06753702,\n",
              "         0.68054046, 0.85547313],\n",
              "        [0.03776959, 0.14820684, 0.8919893 , ..., 0.72593519,\n",
              "         0.09676479, 0.88738323],\n",
              "        [0.38562964, 0.10821002, 0.13181198, ..., 0.72133564,\n",
              "         0.10882385, 0.87228145]],\n",
              "\n",
              "       [[0.95211769, 0.87724023, 0.36223329, ..., 0.63476905,\n",
              "         0.8680736 , 0.60453566],\n",
              "        [0.46559101, 0.62792978, 0.31920574, ..., 0.77408389,\n",
              "         0.5937274 , 0.25034028],\n",
              "        [0.62562788, 0.88936278, 0.91811829, ..., 0.26500436,\n",
              "         0.67650223, 0.31196593],\n",
              "        ...,\n",
              "        [0.87334436, 0.26949341, 0.6585755 , ..., 0.77738768,\n",
              "         0.68439977, 0.15930351],\n",
              "        [0.61684047, 0.51364022, 0.84613404, ..., 0.83863464,\n",
              "         0.91101504, 0.30492176],\n",
              "        [0.11697253, 0.15347151, 0.41651129, ..., 0.76476873,\n",
              "         0.40084417, 0.0698159 ]]])"
            ]
          },
          "metadata": {},
          "execution_count": 2
        }
      ]
    },
    {
      "cell_type": "code",
      "source": [
        "original.shape"
      ],
      "metadata": {
        "colab": {
          "base_uri": "https://localhost:8080/"
        },
        "id": "eXM-LuBRNZYz",
        "outputId": "4065fd20-4837-44db-c4e5-a995949c6de1"
      },
      "execution_count": 3,
      "outputs": [
        {
          "output_type": "execute_result",
          "data": {
            "text/plain": [
              "(3, 28, 28)"
            ]
          },
          "metadata": {},
          "execution_count": 3
        }
      ]
    },
    {
      "cell_type": "code",
      "source": [
        "flat = original.reshape(1, -1); flat"
      ],
      "metadata": {
        "colab": {
          "base_uri": "https://localhost:8080/"
        },
        "id": "G8vsA2UjNZta",
        "outputId": "a49afb21-6c4a-485e-d650-1f26f8a2265c"
      },
      "execution_count": 4,
      "outputs": [
        {
          "output_type": "execute_result",
          "data": {
            "text/plain": [
              "array([[0.38690816, 0.52102601, 0.75270609, ..., 0.76476873, 0.40084417,\n",
              "        0.0698159 ]])"
            ]
          },
          "metadata": {},
          "execution_count": 4
        }
      ]
    },
    {
      "cell_type": "code",
      "source": [
        "flat.shape"
      ],
      "metadata": {
        "colab": {
          "base_uri": "https://localhost:8080/"
        },
        "id": "uhS00FePNeY1",
        "outputId": "4e2fda1b-31c9-43bf-d93c-8d57dc37ffa9"
      },
      "execution_count": 5,
      "outputs": [
        {
          "output_type": "execute_result",
          "data": {
            "text/plain": [
              "(1, 2352)"
            ]
          },
          "metadata": {},
          "execution_count": 5
        }
      ]
    },
    {
      "cell_type": "code",
      "source": [
        "last = flat.flatten(); last"
      ],
      "metadata": {
        "colab": {
          "base_uri": "https://localhost:8080/"
        },
        "id": "rXpY9aLrNeeg",
        "outputId": "e925175a-065b-4441-84c3-e7e55dda4b69"
      },
      "execution_count": 6,
      "outputs": [
        {
          "output_type": "execute_result",
          "data": {
            "text/plain": [
              "array([0.38690816, 0.52102601, 0.75270609, ..., 0.76476873, 0.40084417,\n",
              "       0.0698159 ])"
            ]
          },
          "metadata": {},
          "execution_count": 6
        }
      ]
    },
    {
      "cell_type": "code",
      "source": [
        "last.shape"
      ],
      "metadata": {
        "colab": {
          "base_uri": "https://localhost:8080/"
        },
        "id": "i0W3ma6BN_cm",
        "outputId": "a973913c-c111-45cf-fa9d-15a5fdea216e"
      },
      "execution_count": 7,
      "outputs": [
        {
          "output_type": "execute_result",
          "data": {
            "text/plain": [
              "(2352,)"
            ]
          },
          "metadata": {},
          "execution_count": 7
        }
      ]
    },
    {
      "cell_type": "markdown",
      "metadata": {
        "id": "eIcDegymM1tR"
      },
      "source": [
        "### Task 2: Print out the following: \n",
        "  * dimension of the arrays.\n",
        "  * memory address of the arrays (pointer).\n",
        "  * shape of the arrays.\n",
        "  * data types of the arrays. \n",
        "\n",
        "\n"
      ]
    },
    {
      "cell_type": "code",
      "source": [
        "original.ndim, id(original), original.shape, original.dtype"
      ],
      "metadata": {
        "colab": {
          "base_uri": "https://localhost:8080/"
        },
        "id": "XiyxO7ZoNYZa",
        "outputId": "bc3d9086-b73e-44b4-e6be-d40c063e563b"
      },
      "execution_count": 8,
      "outputs": [
        {
          "output_type": "execute_result",
          "data": {
            "text/plain": [
              "(3, 139957277635168, (3, 28, 28), dtype('float64'))"
            ]
          },
          "metadata": {},
          "execution_count": 8
        }
      ]
    },
    {
      "cell_type": "code",
      "source": [
        "flat.ndim, id(flat), flat.shape, flat.dtype"
      ],
      "metadata": {
        "colab": {
          "base_uri": "https://localhost:8080/"
        },
        "id": "vvgKtaAHOHPM",
        "outputId": "e502b696-c0b8-4688-8645-93e1244ae51e"
      },
      "execution_count": 9,
      "outputs": [
        {
          "output_type": "execute_result",
          "data": {
            "text/plain": [
              "(2, 139957277860848, (1, 2352), dtype('float64'))"
            ]
          },
          "metadata": {},
          "execution_count": 9
        }
      ]
    },
    {
      "cell_type": "code",
      "source": [
        "last.ndim, id(last), last.shape, last.dtype"
      ],
      "metadata": {
        "colab": {
          "base_uri": "https://localhost:8080/"
        },
        "id": "NX-4AWmCOHbV",
        "outputId": "7f12d429-550e-42b7-f0c4-2e1acf909981"
      },
      "execution_count": 10,
      "outputs": [
        {
          "output_type": "execute_result",
          "data": {
            "text/plain": [
              "(1, 139957277443936, (2352,), dtype('float64'))"
            ]
          },
          "metadata": {},
          "execution_count": 10
        }
      ]
    },
    {
      "cell_type": "markdown",
      "metadata": {
        "id": "mZYl9CjBN9bg"
      },
      "source": [
        "### Task 3: \n",
        "Construct a new array which is a negative of the *original* array, i.e, all elements are negative of those in the *original* array. Print the new array. Add the original and new arrays. Print the result. "
      ]
    },
    {
      "cell_type": "code",
      "metadata": {
        "id": "0VCQBW-F933Z",
        "colab": {
          "base_uri": "https://localhost:8080/"
        },
        "outputId": "e8c0a9d9-7b41-4ee5-e94f-9127e9383f81"
      },
      "source": [
        "new = np.negative(original); new"
      ],
      "execution_count": 11,
      "outputs": [
        {
          "output_type": "execute_result",
          "data": {
            "text/plain": [
              "array([[[-0.38690816, -0.52102601, -0.75270609, ..., -0.32832636,\n",
              "         -0.99816758, -0.88134795],\n",
              "        [-0.52343694, -0.91384093, -0.63927776, ..., -0.62058792,\n",
              "         -0.7755078 , -0.82403864],\n",
              "        [-0.07447864, -0.9775395 , -0.46021467, ..., -0.00953656,\n",
              "         -0.26401203, -0.63275502],\n",
              "        ...,\n",
              "        [-0.42424558, -0.9024205 , -0.21242824, ..., -0.18745464,\n",
              "         -0.18324604, -0.75049022],\n",
              "        [-0.86952359, -0.93155959, -0.52922351, ..., -0.47640473,\n",
              "         -0.01413956, -0.24458737],\n",
              "        [-0.62194729, -0.13898941, -0.809992  , ..., -0.86780583,\n",
              "         -0.80530226, -0.49657228]],\n",
              "\n",
              "       [[-0.68577223, -0.64661121, -0.37199115, ..., -0.26720807,\n",
              "         -0.58874953, -0.65628952],\n",
              "        [-0.6082064 , -0.64492641, -0.77063602, ..., -0.41648131,\n",
              "         -0.54694663, -0.86162723],\n",
              "        [-0.96538572, -0.45081472, -0.83969725, ..., -0.67502028,\n",
              "         -0.79170724, -0.04690211],\n",
              "        ...,\n",
              "        [-0.17941315, -0.65731578, -0.08861302, ..., -0.06753702,\n",
              "         -0.68054046, -0.85547313],\n",
              "        [-0.03776959, -0.14820684, -0.8919893 , ..., -0.72593519,\n",
              "         -0.09676479, -0.88738323],\n",
              "        [-0.38562964, -0.10821002, -0.13181198, ..., -0.72133564,\n",
              "         -0.10882385, -0.87228145]],\n",
              "\n",
              "       [[-0.95211769, -0.87724023, -0.36223329, ..., -0.63476905,\n",
              "         -0.8680736 , -0.60453566],\n",
              "        [-0.46559101, -0.62792978, -0.31920574, ..., -0.77408389,\n",
              "         -0.5937274 , -0.25034028],\n",
              "        [-0.62562788, -0.88936278, -0.91811829, ..., -0.26500436,\n",
              "         -0.67650223, -0.31196593],\n",
              "        ...,\n",
              "        [-0.87334436, -0.26949341, -0.6585755 , ..., -0.77738768,\n",
              "         -0.68439977, -0.15930351],\n",
              "        [-0.61684047, -0.51364022, -0.84613404, ..., -0.83863464,\n",
              "         -0.91101504, -0.30492176],\n",
              "        [-0.11697253, -0.15347151, -0.41651129, ..., -0.76476873,\n",
              "         -0.40084417, -0.0698159 ]]])"
            ]
          },
          "metadata": {},
          "execution_count": 11
        }
      ]
    },
    {
      "cell_type": "code",
      "source": [
        "result = new + original; result"
      ],
      "metadata": {
        "colab": {
          "base_uri": "https://localhost:8080/"
        },
        "id": "Wct8F-25Og0X",
        "outputId": "8a66fec0-b51b-4e1a-a97a-94b37189ad05"
      },
      "execution_count": 12,
      "outputs": [
        {
          "output_type": "execute_result",
          "data": {
            "text/plain": [
              "array([[[0., 0., 0., ..., 0., 0., 0.],\n",
              "        [0., 0., 0., ..., 0., 0., 0.],\n",
              "        [0., 0., 0., ..., 0., 0., 0.],\n",
              "        ...,\n",
              "        [0., 0., 0., ..., 0., 0., 0.],\n",
              "        [0., 0., 0., ..., 0., 0., 0.],\n",
              "        [0., 0., 0., ..., 0., 0., 0.]],\n",
              "\n",
              "       [[0., 0., 0., ..., 0., 0., 0.],\n",
              "        [0., 0., 0., ..., 0., 0., 0.],\n",
              "        [0., 0., 0., ..., 0., 0., 0.],\n",
              "        ...,\n",
              "        [0., 0., 0., ..., 0., 0., 0.],\n",
              "        [0., 0., 0., ..., 0., 0., 0.],\n",
              "        [0., 0., 0., ..., 0., 0., 0.]],\n",
              "\n",
              "       [[0., 0., 0., ..., 0., 0., 0.],\n",
              "        [0., 0., 0., ..., 0., 0., 0.],\n",
              "        [0., 0., 0., ..., 0., 0., 0.],\n",
              "        ...,\n",
              "        [0., 0., 0., ..., 0., 0., 0.],\n",
              "        [0., 0., 0., ..., 0., 0., 0.],\n",
              "        [0., 0., 0., ..., 0., 0., 0.]]])"
            ]
          },
          "metadata": {},
          "execution_count": 12
        }
      ]
    },
    {
      "cell_type": "markdown",
      "metadata": {
        "id": "4UKa56EzQXaU"
      },
      "source": [
        "###Task 4\n",
        "\n",
        "A 3x28x28 basically means 28x28 matrices repeated three times. How would you access the first 10 elements of the 2nd row of the second 28x28 matrix? Consider the original array for this. Print the elements."
      ]
    },
    {
      "cell_type": "code",
      "metadata": {
        "id": "bc0stgsY93Tn",
        "colab": {
          "base_uri": "https://localhost:8080/"
        },
        "outputId": "c9246a1e-dc04-4677-cfa1-af9b0b4671fa"
      },
      "source": [
        "original[1][1][0:10]"
      ],
      "execution_count": 13,
      "outputs": [
        {
          "output_type": "execute_result",
          "data": {
            "text/plain": [
              "array([0.6082064 , 0.64492641, 0.77063602, 0.61453607, 0.35672535,\n",
              "       0.10831409, 0.15265777, 0.83113831, 0.51675103, 0.86148265])"
            ]
          },
          "metadata": {},
          "execution_count": 13
        }
      ]
    },
    {
      "cell_type": "markdown",
      "metadata": {
        "id": "8USrPA7NdRXQ"
      },
      "source": [
        "### Task 5 \n",
        "A 3x28x28 image means 3 channels of Red, Green, or Blue (Popularly known as RGB image). Each color channel has a height and width, which is 28X28 in this case. The entire picture can represented through this method. Print the shape of the Blue pixel matrix and its first 3 rows."
      ]
    },
    {
      "cell_type": "code",
      "metadata": {
        "id": "bQCRmVPz92r7",
        "colab": {
          "base_uri": "https://localhost:8080/"
        },
        "outputId": "1c0def0c-28c7-43a1-b982-599c8d09562f"
      },
      "source": [
        "blue_pixel = original[2][0:3]; blue_pixel"
      ],
      "execution_count": 14,
      "outputs": [
        {
          "output_type": "execute_result",
          "data": {
            "text/plain": [
              "array([[0.95211769, 0.87724023, 0.36223329, 0.18414018, 0.34253711,\n",
              "        0.82520548, 0.95690394, 0.06880063, 0.61608563, 0.95395618,\n",
              "        0.15430422, 0.00573282, 0.82259441, 0.49707949, 0.96022128,\n",
              "        0.16671064, 0.03549137, 0.55818783, 0.47880282, 0.94638251,\n",
              "        0.2650488 , 0.38768649, 0.38593953, 0.93317984, 0.34052562,\n",
              "        0.63476905, 0.8680736 , 0.60453566],\n",
              "       [0.46559101, 0.62792978, 0.31920574, 0.78344447, 0.34326428,\n",
              "        0.44863363, 0.22280612, 0.9349881 , 0.45155546, 0.32084133,\n",
              "        0.23833858, 0.18125256, 0.54585863, 0.49377885, 0.02876223,\n",
              "        0.58129604, 0.54991916, 0.04912887, 0.63735809, 0.57482468,\n",
              "        0.6182116 , 0.28042158, 0.21654058, 0.58151842, 0.32302447,\n",
              "        0.77408389, 0.5937274 , 0.25034028],\n",
              "       [0.62562788, 0.88936278, 0.91811829, 0.27336416, 0.60711309,\n",
              "        0.1907847 , 0.41266404, 0.23741522, 0.97697474, 0.09549938,\n",
              "        0.67026179, 0.60668461, 0.05048031, 0.03212332, 0.30171944,\n",
              "        0.61913856, 0.59202226, 0.22349795, 0.80410409, 0.50693348,\n",
              "        0.37278175, 0.01690074, 0.93202447, 0.36676546, 0.6617825 ,\n",
              "        0.26500436, 0.67650223, 0.31196593]])"
            ]
          },
          "metadata": {},
          "execution_count": 14
        }
      ]
    },
    {
      "cell_type": "code",
      "source": [
        "blue_pixel.shape"
      ],
      "metadata": {
        "colab": {
          "base_uri": "https://localhost:8080/"
        },
        "id": "Ai7Rs52FOzAY",
        "outputId": "4807652f-6b0e-4d90-9b8a-6d89324b52d9"
      },
      "execution_count": 15,
      "outputs": [
        {
          "output_type": "execute_result",
          "data": {
            "text/plain": [
              "(3, 28)"
            ]
          },
          "metadata": {},
          "execution_count": 15
        }
      ]
    },
    {
      "cell_type": "markdown",
      "metadata": {
        "id": "Nb9AZUweD-3m"
      },
      "source": [
        "### Task 6 \n",
        "Create a 1 dimensional numpy array of the first 50 even numbers. Convert this to a 10x5 numpy array and print its transpose. "
      ]
    },
    {
      "cell_type": "code",
      "metadata": {
        "id": "JJj-N-Kt92Nz",
        "colab": {
          "base_uri": "https://localhost:8080/"
        },
        "outputId": "e993d29a-c744-4a2c-bb9a-9a78c0a80423"
      },
      "source": [
        "even = np.arange(2,102,2); even"
      ],
      "execution_count": 16,
      "outputs": [
        {
          "output_type": "execute_result",
          "data": {
            "text/plain": [
              "array([  2,   4,   6,   8,  10,  12,  14,  16,  18,  20,  22,  24,  26,\n",
              "        28,  30,  32,  34,  36,  38,  40,  42,  44,  46,  48,  50,  52,\n",
              "        54,  56,  58,  60,  62,  64,  66,  68,  70,  72,  74,  76,  78,\n",
              "        80,  82,  84,  86,  88,  90,  92,  94,  96,  98, 100])"
            ]
          },
          "metadata": {},
          "execution_count": 16
        }
      ]
    },
    {
      "cell_type": "code",
      "source": [
        "new_even = even.reshape(10,5); new_even"
      ],
      "metadata": {
        "colab": {
          "base_uri": "https://localhost:8080/"
        },
        "id": "X_KhmYwDPnSz",
        "outputId": "b4870301-9c5b-4d44-94c1-520155485b82"
      },
      "execution_count": 17,
      "outputs": [
        {
          "output_type": "execute_result",
          "data": {
            "text/plain": [
              "array([[  2,   4,   6,   8,  10],\n",
              "       [ 12,  14,  16,  18,  20],\n",
              "       [ 22,  24,  26,  28,  30],\n",
              "       [ 32,  34,  36,  38,  40],\n",
              "       [ 42,  44,  46,  48,  50],\n",
              "       [ 52,  54,  56,  58,  60],\n",
              "       [ 62,  64,  66,  68,  70],\n",
              "       [ 72,  74,  76,  78,  80],\n",
              "       [ 82,  84,  86,  88,  90],\n",
              "       [ 92,  94,  96,  98, 100]])"
            ]
          },
          "metadata": {},
          "execution_count": 17
        }
      ]
    },
    {
      "cell_type": "code",
      "source": [
        "trans_even = new_even.transpose(); trans_even"
      ],
      "metadata": {
        "colab": {
          "base_uri": "https://localhost:8080/"
        },
        "id": "-0mo_5SLPnwM",
        "outputId": "1837a446-37af-4c88-ee6d-f0b618934da7"
      },
      "execution_count": 18,
      "outputs": [
        {
          "output_type": "execute_result",
          "data": {
            "text/plain": [
              "array([[  2,  12,  22,  32,  42,  52,  62,  72,  82,  92],\n",
              "       [  4,  14,  24,  34,  44,  54,  64,  74,  84,  94],\n",
              "       [  6,  16,  26,  36,  46,  56,  66,  76,  86,  96],\n",
              "       [  8,  18,  28,  38,  48,  58,  68,  78,  88,  98],\n",
              "       [ 10,  20,  30,  40,  50,  60,  70,  80,  90, 100]])"
            ]
          },
          "metadata": {},
          "execution_count": 18
        }
      ]
    },
    {
      "cell_type": "markdown",
      "metadata": {
        "id": "ITBNUk5dHu0f"
      },
      "source": [
        "###Task 7 \n",
        "Consider the 10x5 array created in Task 6. Find the mean of each row and column. You may use in built functions or write your own code."
      ]
    },
    {
      "cell_type": "code",
      "source": [
        "new_even.sum(axis = 0)/10 #column mean"
      ],
      "metadata": {
        "id": "qYrg2g-jVduw",
        "colab": {
          "base_uri": "https://localhost:8080/"
        },
        "outputId": "af687eac-cb3f-4b38-f127-8c1aa450cc99"
      },
      "execution_count": 19,
      "outputs": [
        {
          "output_type": "execute_result",
          "data": {
            "text/plain": [
              "array([47., 49., 51., 53., 55.])"
            ]
          },
          "metadata": {},
          "execution_count": 19
        }
      ]
    },
    {
      "cell_type": "code",
      "metadata": {
        "id": "9bFi6vVf91oY",
        "colab": {
          "base_uri": "https://localhost:8080/"
        },
        "outputId": "376ef433-a0e7-47d4-a100-841505af12f3"
      },
      "source": [
        "new_even.sum(axis=1)/5 #row mean"
      ],
      "execution_count": 20,
      "outputs": [
        {
          "output_type": "execute_result",
          "data": {
            "text/plain": [
              "array([ 6., 16., 26., 36., 46., 56., 66., 76., 86., 96.])"
            ]
          },
          "metadata": {},
          "execution_count": 20
        }
      ]
    },
    {
      "cell_type": "markdown",
      "metadata": {
        "id": "WEHBWo7AGXKK"
      },
      "source": [
        "### Task 8\n",
        "Can we create a 3x3 array of the first 50 even numbers? Why or why not? What are other values of m and n for which mxn dimension is allowed for 50 elements?"
      ]
    },
    {
      "cell_type": "code",
      "source": [
        "even = np.arange(2,102,2); even"
      ],
      "metadata": {
        "colab": {
          "base_uri": "https://localhost:8080/"
        },
        "id": "twVCzrq1QLOh",
        "outputId": "7b5e0ebb-241b-4210-c4c2-184d4782de50"
      },
      "execution_count": 21,
      "outputs": [
        {
          "output_type": "execute_result",
          "data": {
            "text/plain": [
              "array([  2,   4,   6,   8,  10,  12,  14,  16,  18,  20,  22,  24,  26,\n",
              "        28,  30,  32,  34,  36,  38,  40,  42,  44,  46,  48,  50,  52,\n",
              "        54,  56,  58,  60,  62,  64,  66,  68,  70,  72,  74,  76,  78,\n",
              "        80,  82,  84,  86,  88,  90,  92,  94,  96,  98, 100])"
            ]
          },
          "metadata": {},
          "execution_count": 21
        }
      ]
    },
    {
      "cell_type": "code",
      "source": [
        "a = even.reshape(-1); a"
      ],
      "metadata": {
        "colab": {
          "base_uri": "https://localhost:8080/"
        },
        "id": "csefi1miQTTS",
        "outputId": "575520ff-b3be-4c43-b216-b57b6bbb8bf1"
      },
      "execution_count": 28,
      "outputs": [
        {
          "output_type": "execute_result",
          "data": {
            "text/plain": [
              "array([  2,   4,   6,   8,  10,  12,  14,  16,  18,  20,  22,  24,  26,\n",
              "        28,  30,  32,  34,  36,  38,  40,  42,  44,  46,  48,  50,  52,\n",
              "        54,  56,  58,  60,  62,  64,  66,  68,  70,  72,  74,  76,  78,\n",
              "        80,  82,  84,  86,  88,  90,  92,  94,  96,  98, 100])"
            ]
          },
          "metadata": {},
          "execution_count": 28
        }
      ]
    },
    {
      "cell_type": "code",
      "source": [
        "a.shape"
      ],
      "metadata": {
        "colab": {
          "base_uri": "https://localhost:8080/"
        },
        "id": "RwbAbT6nRPcP",
        "outputId": "79da3ab2-2359-4dd5-a8ff-67f280345e53"
      },
      "execution_count": 29,
      "outputs": [
        {
          "output_type": "execute_result",
          "data": {
            "text/plain": [
              "(50,)"
            ]
          },
          "metadata": {},
          "execution_count": 29
        }
      ]
    },
    {
      "cell_type": "markdown",
      "metadata": {
        "id": "nGirNkBS90-J"
      },
      "source": [
        "A 3x3 array of size 50 is impossible because 3  or 9 are not factors of 50. \n",
        "\n",
        "The other values of m and n for which mXn dimension is allowed are: \n",
        "\n",
        "1. 1x50 \n",
        "2. 2x25 \n",
        "3. 5x10\n",
        "4. 10x5\n",
        "5. 25x2\n",
        "6. 50x1\n",
        "\n",
        "\n",
        "\n",
        "\n",
        "\n",
        "\n",
        "\n",
        "\n"
      ]
    }
  ]
}